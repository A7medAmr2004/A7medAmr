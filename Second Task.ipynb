{
 "cells": [
  {
   "cell_type": "markdown",
   "metadata": {
    "id": "p-ZQ6bSzNwdN"
   },
   "source": [
    "creating a student mangemant system\n"
   ]
  },
  {
   "cell_type": "code",
   "execution_count": 1,
   "metadata": {
    "colab": {
     "base_uri": "https://localhost:8080/"
    },
    "id": "Ae1alSk5N6QF",
    "outputId": "9c318399-bee6-42b7-b397-aba7eae93be9"
   },
   "outputs": [
    {
     "name": "stdout",
     "output_type": "stream",
     "text": [
      "name: ahmed ,  age: 20 ,  gpa: 3.7 ,  id: 20220564\n"
     ]
    }
   ],
   "source": [
    "class student:\n",
    "    def __init__(self,name,age,gpa,id):\n",
    "        self.name = name\n",
    "        self.age = age\n",
    "        self.gpa = gpa\n",
    "        self.id = id\n",
    "    def name(self):\n",
    "        return self.name\n",
    "    def age(self):\n",
    "        return self.age\n",
    "    def gpa(self):\n",
    "        return self.gpa\n",
    "    def id(self):\n",
    "        return self.id\n",
    "    def all_inf (self):\n",
    "        return f\"name: {self.name} ,  age: {self.age} ,  gpa: {self.gpa} ,  id: {self.id}\"\n",
    "student1 = student (\"ahmed\" , 20 , 3.7 , 20220564)\n",
    "print (student1.all_inf())"
   ]
  },
  {
   "cell_type": "markdown",
   "metadata": {
    "id": "RM01Mrb1PSet"
   },
   "source": [
    "modeling a bank account"
   ]
  },
  {
   "cell_type": "code",
   "execution_count": 2,
   "metadata": {
    "colab": {
     "base_uri": "https://localhost:8080/"
    },
    "id": "CsaLHyvGPXDl",
    "outputId": "ca6ed500-c9f2-4cb0-8208-16584b439ea1"
   },
   "outputs": [
    {
     "name": "stdout",
     "output_type": "stream",
     "text": [
      "name: ali ,  acc_no: 123456 ,  balance: 1300\n"
     ]
    }
   ],
   "source": [
    "class bank:\n",
    "    def __init__(self,name,acc_no,balance):\n",
    "        self.name=name\n",
    "        self.acc_no=acc_no\n",
    "        self.balance=balance\n",
    "    def deposit(self,amount):\n",
    "        self.balance+=amount\n",
    "    def withdraw(self,amount):\n",
    "        if self.balance>=amount:\n",
    "            self.balance-=amount\n",
    "        else:\n",
    "            print(\"Insufficient balance\")\n",
    "    def check_balance(self):\n",
    "        return self.balance\n",
    "    def all_inf(self):\n",
    "        return f\"name: {self.name} ,  acc_no: {self.acc_no} ,  balance: {self.balance}\"\n",
    "bank1 = bank (\"ali\" , 123456 , 1000)\n",
    "bank1.deposit(500)\n",
    "bank1.withdraw(200)\n",
    "print (bank1.all_inf())"
   ]
  },
  {
   "cell_type": "markdown",
   "metadata": {
    "id": "txUUf07hQHQF"
   },
   "source": [
    "simple calculator class"
   ]
  },
  {
   "cell_type": "code",
   "execution_count": 3,
   "metadata": {
    "colab": {
     "base_uri": "https://localhost:8080/"
    },
    "id": "P7sgAPqaQpDU",
    "outputId": "8719edef-0d28-4b09-8adb-24a823845cff"
   },
   "outputs": [
    {
     "name": "stdout",
     "output_type": "stream",
     "text": [
      "4-2 = 2\n",
      "4+2 = 6\n",
      "4x2 = 8\n",
      "4/2 = 2.0\n"
     ]
    }
   ],
   "source": [
    "class ca:\n",
    "    def __init__ (self,x,y):\n",
    "        self.x = x\n",
    "        self.y = y\n",
    "    def sum(self):\n",
    "        return f\"{self.x}+{self.y} = {self.x+self.y}\"\n",
    "    def sub(self):\n",
    "        return f\"{self.x}-{self.y} = {self.x-self.y}\"\n",
    "    def mult(self):\n",
    "        return f\"{self.x}x{self.y} = {self.x*self.y}\"\n",
    "    def div(self):\n",
    "        return f\"{self.x}/{self.y} = {self.x/self.y}\"\n",
    "ca1 = ca(4,2)\n",
    "print (ca1.sub())\n",
    "print (ca1.sum())\n",
    "print (ca1.mult())\n",
    "print (ca1.div())"
   ]
  },
  {
   "cell_type": "markdown",
   "metadata": {
    "id": "IJ2yfzJdQtjU"
   },
   "source": [
    "managing a simple inventory system"
   ]
  },
  {
   "cell_type": "code",
   "execution_count": 4,
   "metadata": {
    "colab": {
     "base_uri": "https://localhost:8080/"
    },
    "id": "w_jy60R_Q0Bt",
    "outputId": "c253c554-7767-4945-cb78-6c671a377e49"
   },
   "outputs": [
    {
     "name": "stdout",
     "output_type": "stream",
     "text": [
      "Name: apple\n",
      "Price: 2\n",
      "Quantity: 12\n",
      "None\n"
     ]
    }
   ],
   "source": [
    "class inventory :\n",
    "    def __init__(self,name,price,quantity):\n",
    "        self.name=name\n",
    "        self.price=price\n",
    "        self.quantity=quantity\n",
    "    def add_item(self,quantity):\n",
    "        self.quantity+=quantity\n",
    "\n",
    "    def remove_item(self,quantity):\n",
    "        if self.quantity>=quantity:\n",
    "            self.quantity-=quantity\n",
    "        else:\n",
    "            print(\"Insufficient quantity\")\n",
    "\n",
    "    def now_price(self,price):\n",
    "        self.price=price\n",
    "\n",
    "    def all_inf(self):\n",
    "        print(f\"Name: {self.name}\\nPrice: {self.price}\\nQuantity: {self.quantity}\")\n",
    "        \n",
    "inventory1 = inventory (\"apple\" , 1.5 , 10)\n",
    "inventory1.now_price(2)\n",
    "inventory1.add_item(5)\n",
    "inventory1.remove_item(3)\n",
    "print (inventory1.all_inf())\n"
   ]
  },
  {
   "cell_type": "markdown",
   "metadata": {
    "id": "B03SulHCSqje"
   },
   "source": [
    "modeling a simple library system"
   ]
  },
  {
   "cell_type": "code",
   "execution_count": 5,
   "metadata": {
    "id": "ljnQ-haRTJAV"
   },
   "outputs": [
    {
     "name": "stdout",
     "output_type": "stream",
     "text": [
      "name:hamlet , catecogry: romantic,action , year: 1993 \n"
     ]
    }
   ],
   "source": [
    "\n",
    "class library :\n",
    "    def __init__(self,name,category,year):\n",
    "        self.name=name\n",
    "        self.category=category\n",
    "        self.year=year\n",
    "        \n",
    "\n",
    "    def add_category(self,category):\n",
    "        if self.category == category:\n",
    "           print (\"It has already been registered\")\n",
    "        else :\n",
    "            self.category += category \n",
    "            \n",
    "\n",
    "    def remove_category(self,category):\n",
    "        if category in self.category:\n",
    "            self.category.remove(category)\n",
    "        else:\n",
    "            print(\"Book not found\")\n",
    "    def all_inf (self):\n",
    "        return (f\"name:{self.name} , catecogry: {self.category} , year: {self.year} \")\n",
    "\n",
    "\n",
    "library1 = library(\"hamlet\" , \"romantic\" , 1993)\n",
    "library1.add_category (\",action\")\n",
    "print (library1.all_inf())"
   ]
  },
  {
   "cell_type": "markdown",
   "metadata": {},
   "source": [
    "Simple Voting System"
   ]
  },
  {
   "cell_type": "code",
   "execution_count": 3,
   "metadata": {},
   "outputs": [
    {
     "name": "stdout",
     "output_type": "stream",
     "text": [
      "name : tramb , votes : 220\n",
      "name : nawal , votes : 140\n",
      "name : baydin , votes : 200\n"
     ]
    }
   ],
   "source": [
    "class voting_system:\n",
    "    def __init__ (self,name,votes):\n",
    "        self.name = name \n",
    "        self.votes = votes\n",
    "    \n",
    "    def add_vote(self,votes):\n",
    "        self.votes += votes\n",
    "        return self.votes\n",
    "    \n",
    "    def remove_vote(self,votes):\n",
    "        self.votes -= votes\n",
    "        return self.votes\n",
    "        \n",
    "    def all_inf(self):\n",
    "        return f\"name : {self.name} , votes : {self.votes}\"\n",
    "\n",
    "name1 = voting_system(\"tramb\", 230)\n",
    "name1.remove_vote (10)\n",
    "name2 = voting_system(\"nawal\" , 120)\n",
    "name2.add_vote (20)\n",
    "name3 = voting_system(\"baydin\" , 200)\n",
    "print (name1.all_inf())\n",
    "print (name2.all_inf())\n",
    "print (name3.all_inf())"
   ]
  },
  {
   "cell_type": "markdown",
   "metadata": {},
   "source": [
    "Simple Temperature Convert\n"
   ]
  },
  {
   "cell_type": "code",
   "execution_count": 10,
   "metadata": {},
   "outputs": [
    {
     "name": "stdout",
     "output_type": "stream",
     "text": [
      "62.6 F\n",
      "290 k\n",
      "27 c\n",
      "148.88888888888889 F\n"
     ]
    }
   ],
   "source": [
    "class temp_conver():\n",
    "    def __init__ (self,degre):\n",
    "        self.degre = degre\n",
    "    def conver_cels_to_kelvin(self):\n",
    "        return f\"{self.degre + 273} k\"\n",
    "    def conver_cels_to_fahrenheit(self):\n",
    "        return f\"{((self.degre)*9/5)+32} F\"\n",
    "    def conver_kelvin_to_cels(self):\n",
    "        return f\"{self.degre- 273} c\"\n",
    "    def conver_fahrenhait_to_cels(self):\n",
    "        return f\"{((self.degre)-32)*5/9} F\"\n",
    "\n",
    "\n",
    "tem1 = temp_conver(17)\n",
    "tem2 = temp_conver(300)\n",
    "print (tem1.conver_cels_to_fahrenheit())\n",
    "print (tem1.conver_cels_to_kelvin())\n",
    "print (tem2.conver_kelvin_to_cels())\n",
    "print (tem2.conver_fahrenhait_to_cels())\n",
    "        "
   ]
  },
  {
   "cell_type": "markdown",
   "metadata": {},
   "source": [
    "Modeling a Car Rental System"
   ]
  },
  {
   "cell_type": "code",
   "execution_count": 11,
   "metadata": {},
   "outputs": [
    {
     "name": "stdout",
     "output_type": "stream",
     "text": [
      "name : toyota , model : corola , year :2000 , color : white \n",
      "name : marcedes , model : benz , year :2020 , color : black \n"
     ]
    }
   ],
   "source": [
    "class car_rental():\n",
    "  def __init__ (self, name, model, year, color):\n",
    "    self.name = name\n",
    "    self.model = model\n",
    "    self.year = year\n",
    "    self.color = color\n",
    "  \n",
    "  def all_inf (self):\n",
    "    return f\"name : {self.name} , model : {self.model} , year :{self.year} , color : {self.color} \"\n",
    "\n",
    "car1 = car_rental (\"toyota\" , \"corola\" , 2000 , \"white\")\n",
    "car2 = car_rental (\"marcedes\" , \"benz\" , 2020 , \"black\")\n",
    "print (car1.all_inf())\n",
    "print (car2.all_inf())\n",
    "\n"
   ]
  }
 ],
 "metadata": {
  "colab": {
   "provenance": []
  },
  "kernelspec": {
   "display_name": "Python 3",
   "name": "python3"
  },
  "language_info": {
   "codemirror_mode": {
    "name": "ipython",
    "version": 3
   },
   "file_extension": ".py",
   "mimetype": "text/x-python",
   "name": "python",
   "nbconvert_exporter": "python",
   "pygments_lexer": "ipython3",
   "version": "3.13.0"
  }
 },
 "nbformat": 4,
 "nbformat_minor": 0
}
